{
 "cells": [
  {
   "cell_type": "code",
   "execution_count": 1,
   "id": "african-campus",
   "metadata": {},
   "outputs": [],
   "source": [
    "# name of the input file\n",
    "filename = \"nad4L.fasta\""
   ]
  },
  {
   "cell_type": "code",
   "execution_count": 2,
   "id": "dress-socket",
   "metadata": {},
   "outputs": [],
   "source": [
    "# opening the input file\n",
    "infile = open(filename, \"r\")"
   ]
  },
  {
   "cell_type": "code",
   "execution_count": 3,
   "id": "structural-attendance",
   "metadata": {},
   "outputs": [
    {
     "name": "stdout",
     "output_type": "stream",
     "text": [
      "ACGGATCCTATCAAATATTTCACATTTTCTATGATCATCTCTATTTTAGGTATTCGGGGAATCCTCCTTAATAGACGAAATATTCCTATTATGTCAATGCCAATTGAATCAATGTTATTAGCTGTGAATTCGAACTTTTTGGTATTTTCCGTTTCTTCGGATGATATGATGGGTCAATCATTTGCTTCATTGGTTCCAACGGTGGCAGCTGCGGAATCCGCTATTGGGTTAGCCATTTTCGTTATTACTTTCCGAGTCCGAGGGACTATTGCTGTAGAATTTATTAATAGCATTCAAGGTTAA\n"
     ]
    }
   ],
   "source": [
    "# read the file \n",
    "sequence = infile.read().rstrip()\n",
    "print(sequence)"
   ]
  },
  {
   "cell_type": "code",
   "execution_count": 4,
   "id": "proved-stephen",
   "metadata": {},
   "outputs": [],
   "source": [
    "# close the input file\n",
    "infile.close()"
   ]
  },
  {
   "cell_type": "code",
   "execution_count": 5,
   "id": "ceramic-humanitarian",
   "metadata": {},
   "outputs": [],
   "source": [
    "# counting the sequence length \n",
    "seqlen = len(sequence)\n",
    "# print(seqlen)"
   ]
  },
  {
   "cell_type": "code",
   "execution_count": 6,
   "id": "human-yesterday",
   "metadata": {},
   "outputs": [
    {
     "name": "stdout",
     "output_type": "stream",
     "text": [
      "Sequence length: 303\n"
     ]
    }
   ],
   "source": [
    "# needed sequence output\n",
    "print(\"Sequence length:\" , seqlen)"
   ]
  },
  {
   "cell_type": "code",
   "execution_count": 7,
   "id": "orange-aberdeen",
   "metadata": {},
   "outputs": [
    {
     "name": "stdout",
     "output_type": "stream",
     "text": [
      "0.2508250825082508\n"
     ]
    }
   ],
   "source": [
    "# finding frequency of A\n",
    "freqA = (sequence.count(\"A\") / seqlen)\n",
    "print(freqA)"
   ]
  },
  {
   "cell_type": "code",
   "execution_count": 8,
   "id": "potential-reward",
   "metadata": {},
   "outputs": [
    {
     "name": "stdout",
     "output_type": "stream",
     "text": [
      "Freq of A: 0.2508250825082508\n"
     ]
    }
   ],
   "source": [
    "# needed freqA output\n",
    "print(\"Freq of A:\" , freqA)"
   ]
  },
  {
   "cell_type": "code",
   "execution_count": 9,
   "id": "antique-current",
   "metadata": {},
   "outputs": [
    {
     "name": "stdout",
     "output_type": "stream",
     "text": [
      "0.1782178217821782\n"
     ]
    }
   ],
   "source": [
    "# finding frequency of C\n",
    "freqC = (sequence.count(\"C\") / seqlen)\n",
    "print(freqC)"
   ]
  },
  {
   "cell_type": "code",
   "execution_count": 10,
   "id": "funky-scheme",
   "metadata": {},
   "outputs": [
    {
     "name": "stdout",
     "output_type": "stream",
     "text": [
      "Freq of C: 0.1782178217821782\n"
     ]
    }
   ],
   "source": [
    "# needed freqC output\n",
    "print(\"Freq of C:\" , freqC)"
   ]
  },
  {
   "cell_type": "code",
   "execution_count": 11,
   "id": "composed-printing",
   "metadata": {},
   "outputs": [
    {
     "name": "stdout",
     "output_type": "stream",
     "text": [
      "0.19141914191419143\n"
     ]
    }
   ],
   "source": [
    "# finding frequency of G\n",
    "freqG = (sequence.count(\"G\") / seqlen)\n",
    "print(freqG)"
   ]
  },
  {
   "cell_type": "code",
   "execution_count": 12,
   "id": "artistic-queens",
   "metadata": {},
   "outputs": [
    {
     "name": "stdout",
     "output_type": "stream",
     "text": [
      "Freq of G: 0.19141914191419143\n"
     ]
    }
   ],
   "source": [
    "# needed freqG output\n",
    "print(\"Freq of G:\" , freqG)"
   ]
  },
  {
   "cell_type": "code",
   "execution_count": 13,
   "id": "capital-pacific",
   "metadata": {},
   "outputs": [
    {
     "name": "stdout",
     "output_type": "stream",
     "text": [
      "0.3795379537953795\n"
     ]
    }
   ],
   "source": [
    "# finding frequency of T\n",
    "freqT = (sequence.count(\"T\") / seqlen)\n",
    "print (freqT)"
   ]
  },
  {
   "cell_type": "code",
   "execution_count": 14,
   "id": "pursuant-expert",
   "metadata": {},
   "outputs": [
    {
     "name": "stdout",
     "output_type": "stream",
     "text": [
      "Freq of T: 0.3795379537953795\n"
     ]
    }
   ],
   "source": [
    "# needed freqT output\n",
    "print(\"Freq of T:\" , freqT)"
   ]
  },
  {
   "cell_type": "code",
   "execution_count": 15,
   "id": "experimental-tiger",
   "metadata": {},
   "outputs": [
    {
     "name": "stdout",
     "output_type": "stream",
     "text": [
      "0.3696369636963696\n"
     ]
    }
   ],
   "source": [
    "# finding frequency of G+C\n",
    "freqGC = ((sequence.count(\"G\") + sequence.count(\"C\")) / seqlen)\n",
    "print(freqGC)"
   ]
  },
  {
   "cell_type": "code",
   "execution_count": 16,
   "id": "caroline-theology",
   "metadata": {},
   "outputs": [
    {
     "name": "stdout",
     "output_type": "stream",
     "text": [
      "G+C content: 0.3696369636963696\n"
     ]
    }
   ],
   "source": [
    "# needed G+C output \n",
    "print(\"G+C content:\" , freqGC)"
   ]
  },
  {
   "cell_type": "code",
   "execution_count": 17,
   "id": "strange-ocean",
   "metadata": {},
   "outputs": [
    {
     "name": "stdout",
     "output_type": "stream",
     "text": [
      "1.0\n"
     ]
    }
   ],
   "source": [
    "# checking frequencies all sum to 1\n",
    "print(freqA + freqC + freqG + freqT)"
   ]
  }
 ],
 "metadata": {
  "kernelspec": {
   "display_name": "Python 3",
   "language": "python",
   "name": "python3"
  },
  "language_info": {
   "codemirror_mode": {
    "name": "ipython",
    "version": 3
   },
   "file_extension": ".py",
   "mimetype": "text/x-python",
   "name": "python",
   "nbconvert_exporter": "python",
   "pygments_lexer": "ipython3",
   "version": "3.9.2"
  }
 },
 "nbformat": 4,
 "nbformat_minor": 5
}
